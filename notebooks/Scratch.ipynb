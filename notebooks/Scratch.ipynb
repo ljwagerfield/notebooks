{
 "cells": [
  {
   "cell_type": "code",
   "execution_count": 83,
   "metadata": {},
   "outputs": [
    {
     "data": {
      "text/plain": [
       "array([-1, -1, -1])"
      ]
     },
     "execution_count": 83,
     "metadata": {},
     "output_type": "execute_result"
    }
   ],
   "source": [
    "import numpy as np\n",
    "x0 = 0\n",
    "x1 = 1\n",
    "w0 = 5.58782005\n",
    "w1 = 5.58776522\n",
    "b = -7.60772371\n",
    "\n",
    "arr = np.array([1,2,3], np.float32)\n",
    "arr2 = np.array([3,3,3], np.float32)\n",
    "\n",
    "np.where((arr < 4), -1, 1)\n",
    "\n",
    "\n",
    "x = a + b + c\n",
    "\n",
    "\n",
    "x = a > 0 ? b : c"
   ]
  }
 ],
 "metadata": {
  "kernelspec": {
   "display_name": "Python 3",
   "language": "python",
   "name": "python3"
  },
  "language_info": {
   "codemirror_mode": {
    "name": "ipython",
    "version": 3
   },
   "file_extension": ".py",
   "mimetype": "text/x-python",
   "name": "python",
   "nbconvert_exporter": "python",
   "pygments_lexer": "ipython3",
   "version": "3.6.8"
  }
 },
 "nbformat": 4,
 "nbformat_minor": 2
}
